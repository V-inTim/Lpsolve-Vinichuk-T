{
 "cells": [
  {
   "cell_type": "code",
   "execution_count": 1,
   "id": "1158d9e8",
   "metadata": {
    "scrolled": true
   },
   "outputs": [],
   "source": [
    "import graph_network as gn\n",
    "import graph_line_network as gln"
   ]
  },
  {
   "cell_type": "markdown",
   "id": "65db9bd5",
   "metadata": {},
   "source": [
    "## Задача №1"
   ]
  },
  {
   "cell_type": "code",
   "execution_count": 2,
   "id": "1dc8b147",
   "metadata": {},
   "outputs": [
    {
     "name": "stdout",
     "output_type": "stream",
     "text": [
      "['s', 3, 4, 1, 6, 5, 2, 'd']\n",
      "[('s', 3), ('s', 1), ('s', 6), ('s', 5), ('s', 2), (3, 4), (3, 6), (3, 5), (3, 2), (4, 1), (4, 6), (4, 5), (1, 6), (1, 2), (6, 5), (5, 2), (2, 'd'), (1, 'd'), (5, 'd')]\n"
     ]
    }
   ],
   "source": [
    "gr_net = gn.GraphNetwork()\n",
    "gr_net.genGraph()\n",
    "print(gr_net.getVertiсes())\n",
    "print(gr_net.getEdges())"
   ]
  },
  {
   "cell_type": "code",
   "execution_count": 3,
   "id": "4f6f424f",
   "metadata": {
    "scrolled": true
   },
   "outputs": [
    {
     "name": "stdout",
     "output_type": "stream",
     "text": [
      "67.0\n"
     ]
    }
   ],
   "source": [
    "res = gr_net.lpSolve()\n",
    "print(res)\n",
    "\n",
    "gr_net.saveGraph(\"graph_task1.json\")"
   ]
  },
  {
   "cell_type": "markdown",
   "id": "336e1656",
   "metadata": {},
   "source": [
    "## Задача №2"
   ]
  },
  {
   "cell_type": "code",
   "execution_count": 4,
   "id": "91c2fa58",
   "metadata": {},
   "outputs": [
    {
     "name": "stdout",
     "output_type": "stream",
     "text": [
      "['1', '2', '3', '4', '5', '6', '7', '8', '9', '10', '11', '12', '13', '14', '15', 's', 'd']\n",
      "[(1, 2), (2, 3), (3, 4), (5, 6), (6, 7), (6, 11), (6, 3), (7, 8), (7, 12), (9, 10), (10, 11), (11, 12), (11, 8), (4, 13), (8, 14), (12, 15), ('s', 1), ('s', 5), ('s', 9), (13, 'd'), (14, 'd'), (15, 'd')]\n"
     ]
    }
   ],
   "source": [
    "gr_net2 = gln.GraphNetwork()\n",
    "gr_net2.genGraph()\n",
    "print(gr_net2.getVertiсes())\n",
    "print(gr_net2.getEdges())"
   ]
  },
  {
   "cell_type": "code",
   "execution_count": 5,
   "id": "dd06e260",
   "metadata": {},
   "outputs": [
    {
     "name": "stdout",
     "output_type": "stream",
     "text": [
      "28.0\n"
     ]
    }
   ],
   "source": [
    "res = gr_net2.lpSolve()\n",
    "print(res)\n",
    "\n",
    "gr_net2.saveGraph(\"graph_task2.json\")"
   ]
  }
 ],
 "metadata": {
  "kernelspec": {
   "display_name": "Python 3 (ipykernel)",
   "language": "python",
   "name": "python3"
  },
  "language_info": {
   "codemirror_mode": {
    "name": "ipython",
    "version": 3
   },
   "file_extension": ".py",
   "mimetype": "text/x-python",
   "name": "python",
   "nbconvert_exporter": "python",
   "pygments_lexer": "ipython3",
   "version": "3.11.5"
  }
 },
 "nbformat": 4,
 "nbformat_minor": 5
}
